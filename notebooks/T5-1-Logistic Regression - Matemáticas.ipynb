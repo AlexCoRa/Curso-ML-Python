{
 "cells": [
  {
   "cell_type": "markdown",
   "id": "sonic-comparison",
   "metadata": {},
   "source": [
    "# Las matemáticas tras la regresión logística"
   ]
  },
  {
   "cell_type": "markdown",
   "id": "direct-think",
   "metadata": {},
   "source": [
    "## Las tablas de contingencia"
   ]
  },
  {
   "cell_type": "code",
   "execution_count": 1,
   "id": "placed-focus",
   "metadata": {},
   "outputs": [],
   "source": [
    "import pandas as pd"
   ]
  },
  {
   "cell_type": "code",
   "execution_count": 2,
   "id": "inner-anderson",
   "metadata": {},
   "outputs": [],
   "source": [
    "df = pd.read_csv(\"../datasets/gender-purchase/Gender Purchase.csv\")"
   ]
  },
  {
   "cell_type": "code",
   "execution_count": 3,
   "id": "promising-mystery",
   "metadata": {},
   "outputs": [
    {
     "data": {
      "text/html": [
       "<div>\n",
       "<style scoped>\n",
       "    .dataframe tbody tr th:only-of-type {\n",
       "        vertical-align: middle;\n",
       "    }\n",
       "\n",
       "    .dataframe tbody tr th {\n",
       "        vertical-align: top;\n",
       "    }\n",
       "\n",
       "    .dataframe thead th {\n",
       "        text-align: right;\n",
       "    }\n",
       "</style>\n",
       "<table border=\"1\" class=\"dataframe\">\n",
       "  <thead>\n",
       "    <tr style=\"text-align: right;\">\n",
       "      <th></th>\n",
       "      <th>Gender</th>\n",
       "      <th>Purchase</th>\n",
       "    </tr>\n",
       "  </thead>\n",
       "  <tbody>\n",
       "    <tr>\n",
       "      <th>0</th>\n",
       "      <td>Female</td>\n",
       "      <td>Yes</td>\n",
       "    </tr>\n",
       "    <tr>\n",
       "      <th>1</th>\n",
       "      <td>Female</td>\n",
       "      <td>Yes</td>\n",
       "    </tr>\n",
       "    <tr>\n",
       "      <th>2</th>\n",
       "      <td>Female</td>\n",
       "      <td>No</td>\n",
       "    </tr>\n",
       "    <tr>\n",
       "      <th>3</th>\n",
       "      <td>Male</td>\n",
       "      <td>No</td>\n",
       "    </tr>\n",
       "    <tr>\n",
       "      <th>4</th>\n",
       "      <td>Male</td>\n",
       "      <td>Yes</td>\n",
       "    </tr>\n",
       "  </tbody>\n",
       "</table>\n",
       "</div>"
      ],
      "text/plain": [
       "   Gender Purchase\n",
       "0  Female      Yes\n",
       "1  Female      Yes\n",
       "2  Female       No\n",
       "3    Male       No\n",
       "4    Male      Yes"
      ]
     },
     "execution_count": 3,
     "metadata": {},
     "output_type": "execute_result"
    }
   ],
   "source": [
    "df.head()"
   ]
  },
  {
   "cell_type": "code",
   "execution_count": 11,
   "id": "patient-visitor",
   "metadata": {},
   "outputs": [
    {
     "data": {
      "text/html": [
       "<div>\n",
       "<style scoped>\n",
       "    .dataframe tbody tr th:only-of-type {\n",
       "        vertical-align: middle;\n",
       "    }\n",
       "\n",
       "    .dataframe tbody tr th {\n",
       "        vertical-align: top;\n",
       "    }\n",
       "\n",
       "    .dataframe thead th {\n",
       "        text-align: right;\n",
       "    }\n",
       "</style>\n",
       "<table border=\"1\" class=\"dataframe\">\n",
       "  <thead>\n",
       "    <tr style=\"text-align: right;\">\n",
       "      <th>Purchase</th>\n",
       "      <th>No</th>\n",
       "      <th>Yes</th>\n",
       "    </tr>\n",
       "    <tr>\n",
       "      <th>Gender</th>\n",
       "      <th></th>\n",
       "      <th></th>\n",
       "    </tr>\n",
       "  </thead>\n",
       "  <tbody>\n",
       "    <tr>\n",
       "      <th>Female</th>\n",
       "      <td>106</td>\n",
       "      <td>159</td>\n",
       "    </tr>\n",
       "    <tr>\n",
       "      <th>Male</th>\n",
       "      <td>125</td>\n",
       "      <td>121</td>\n",
       "    </tr>\n",
       "  </tbody>\n",
       "</table>\n",
       "</div>"
      ],
      "text/plain": [
       "Purchase   No  Yes\n",
       "Gender            \n",
       "Female    106  159\n",
       "Male      125  121"
      ]
     },
     "execution_count": 11,
     "metadata": {},
     "output_type": "execute_result"
    }
   ],
   "source": [
    "contingency_table = pd.crosstab(df[\"Gender\"], df[\"Purchase\"])\n",
    "contingency_table\n",
    "\n",
    "# 106 mujeres entraron en la tienda y NO compraron, 159 mujeres entraron en la tienda y SI compraron.\n",
    "# 125 hombres entraron en la tienda y NO compraron, 121 hombres entraron en la tienda y SI compraron."
   ]
  },
  {
   "cell_type": "code",
   "execution_count": 13,
   "id": "strategic-andrew",
   "metadata": {},
   "outputs": [
    {
     "data": {
      "text/plain": [
       "Gender\n",
       "Female    265\n",
       "Male      246\n",
       "dtype: int64"
      ]
     },
     "execution_count": 13,
     "metadata": {},
     "output_type": "execute_result"
    }
   ],
   "source": [
    "contingency_table.sum(axis = 1)"
   ]
  },
  {
   "cell_type": "code",
   "execution_count": 15,
   "id": "valid-slovakia",
   "metadata": {},
   "outputs": [
    {
     "data": {
      "text/plain": [
       "Purchase\n",
       "No     231\n",
       "Yes    280\n",
       "dtype: int64"
      ]
     },
     "execution_count": 15,
     "metadata": {},
     "output_type": "execute_result"
    }
   ],
   "source": [
    "contingency_table.sum(axis = 0)\n",
    "\n",
    "# 231 personas NO compraron en la tienda.\n",
    "# 280 personas SI compraron en la tienda."
   ]
  },
  {
   "cell_type": "code",
   "execution_count": 16,
   "id": "found-mattress",
   "metadata": {},
   "outputs": [
    {
     "data": {
      "text/html": [
       "<div>\n",
       "<style scoped>\n",
       "    .dataframe tbody tr th:only-of-type {\n",
       "        vertical-align: middle;\n",
       "    }\n",
       "\n",
       "    .dataframe tbody tr th {\n",
       "        vertical-align: top;\n",
       "    }\n",
       "\n",
       "    .dataframe thead th {\n",
       "        text-align: right;\n",
       "    }\n",
       "</style>\n",
       "<table border=\"1\" class=\"dataframe\">\n",
       "  <thead>\n",
       "    <tr style=\"text-align: right;\">\n",
       "      <th>Purchase</th>\n",
       "      <th>No</th>\n",
       "      <th>Yes</th>\n",
       "    </tr>\n",
       "    <tr>\n",
       "      <th>Gender</th>\n",
       "      <th></th>\n",
       "      <th></th>\n",
       "    </tr>\n",
       "  </thead>\n",
       "  <tbody>\n",
       "    <tr>\n",
       "      <th>Female</th>\n",
       "      <td>0.40000</td>\n",
       "      <td>0.60000</td>\n",
       "    </tr>\n",
       "    <tr>\n",
       "      <th>Male</th>\n",
       "      <td>0.50813</td>\n",
       "      <td>0.49187</td>\n",
       "    </tr>\n",
       "  </tbody>\n",
       "</table>\n",
       "</div>"
      ],
      "text/plain": [
       "Purchase       No      Yes\n",
       "Gender                    \n",
       "Female    0.40000  0.60000\n",
       "Male      0.50813  0.49187"
      ]
     },
     "execution_count": 16,
     "metadata": {},
     "output_type": "execute_result"
    }
   ],
   "source": [
    "contingency_table.astype(\"float\").div(contingency_table.sum(axis=1), axis=0)"
   ]
  },
  {
   "cell_type": "markdown",
   "id": "thrown-services",
   "metadata": {},
   "source": [
    "## La probabilidad condicional"
   ]
  },
  {
   "cell_type": "code",
   "execution_count": 17,
   "id": "approved-religious",
   "metadata": {},
   "outputs": [],
   "source": [
    "from IPython.display import display, Math, Latex"
   ]
  },
  {
   "cell_type": "markdown",
   "id": "suited-plain",
   "metadata": {},
   "source": [
    "* ¿Cuál es la probabilidad de que un cliente compre un producto sabiendo que sea hombre?\n",
    "* ¿Cuál es la probabilidad de que un cliente compre un producto sabiendo que sea mujer?"
   ]
  },
  {
   "cell_type": "code",
   "execution_count": 27,
   "id": "instrumental-floor",
   "metadata": {},
   "outputs": [
    {
     "data": {
      "text/latex": [
       "$\\displaystyle P(Purchase|Male) = \\frac{Numero\\ total\\ de\\ compras\\ hechas\\ por\\ hombres}{Numero\\ total\\ de\\ hombres\\ del\\ grupo} = \\frac{Purchase\\cap Male}{Male}$"
      ],
      "text/plain": [
       "<IPython.core.display.Math object>"
      ]
     },
     "metadata": {},
     "output_type": "display_data"
    },
    {
     "data": {
      "text/plain": [
       "0.491869918699187"
      ]
     },
     "execution_count": 27,
     "metadata": {},
     "output_type": "execute_result"
    }
   ],
   "source": [
    "display(Math(r'P(Purchase|Male) = \\frac{Numero\\ total\\ de\\ compras\\ hechas\\ por\\ hombres}{Numero\\ total\\ de\\ hombres\\ del\\ grupo} = \\frac{Purchase\\cap Male}{Male}'))\n",
    "121/246"
   ]
  },
  {
   "cell_type": "code",
   "execution_count": 26,
   "id": "herbal-throat",
   "metadata": {},
   "outputs": [
    {
     "data": {
      "text/latex": [
       "$\\displaystyle P(No\\ Purchase|Male) = 1-P(Purchase|Male)$"
      ],
      "text/plain": [
       "<IPython.core.display.Math object>"
      ]
     },
     "metadata": {},
     "output_type": "display_data"
    },
    {
     "data": {
      "text/plain": [
       "0.508130081300813"
      ]
     },
     "execution_count": 26,
     "metadata": {},
     "output_type": "execute_result"
    }
   ],
   "source": [
    "display(Math(r'P(No\\ Purchase|Male) = 1-P(Purchase|Male)'))\n",
    "125/246"
   ]
  },
  {
   "cell_type": "code",
   "execution_count": 29,
   "id": "metallic-terry",
   "metadata": {},
   "outputs": [
    {
     "data": {
      "text/latex": [
       "$\\displaystyle P(Purchase|Female) = \\frac{Numero\\ total\\ de\\ compras\\ hechas\\ por\\ mujeres}{Numero\\ total\\ de\\ mujeres\\ del\\ grupo} = \\frac{Female\\cap Purchase}{Purchase}$"
      ],
      "text/plain": [
       "<IPython.core.display.Math object>"
      ]
     },
     "metadata": {},
     "output_type": "display_data"
    },
    {
     "data": {
      "text/plain": [
       "0.5678571428571428"
      ]
     },
     "execution_count": 29,
     "metadata": {},
     "output_type": "execute_result"
    }
   ],
   "source": [
    "display(Math(r'P(Purchase|Female) = \\frac{Numero\\ total\\ de\\ compras\\ hechas\\ por\\ mujeres}{Numero\\ total\\ de\\ mujeres\\ del\\ grupo} = \\frac{Female\\cap Purchase}{Purchase}'))\n",
    "159/280"
   ]
  },
  {
   "cell_type": "code",
   "execution_count": 33,
   "id": "molecular-walker",
   "metadata": {},
   "outputs": [
    {
     "data": {
      "text/latex": [
       "$\\displaystyle P(Male|Purchase)$"
      ],
      "text/plain": [
       "<IPython.core.display.Math object>"
      ]
     },
     "metadata": {},
     "output_type": "display_data"
    },
    {
     "data": {
      "text/plain": [
       "0.43214285714285716"
      ]
     },
     "execution_count": 33,
     "metadata": {},
     "output_type": "execute_result"
    }
   ],
   "source": [
    "display(Math( r'P(Male|Purchase)' ))\n",
    "121/280"
   ]
  },
  {
   "cell_type": "code",
   "execution_count": 37,
   "id": "judicial-mexican",
   "metadata": {},
   "outputs": [
    {
     "data": {
      "text/latex": [
       "$\\displaystyle P(Purchase|Male)$"
      ],
      "text/plain": [
       "<IPython.core.display.Math object>"
      ]
     },
     "metadata": {},
     "output_type": "display_data"
    },
    {
     "name": "stdout",
     "output_type": "stream",
     "text": [
      "0.491869918699187\n"
     ]
    },
    {
     "data": {
      "text/latex": [
       "$\\displaystyle P(NO\\ Purchase|Male)$"
      ],
      "text/plain": [
       "<IPython.core.display.Math object>"
      ]
     },
     "metadata": {},
     "output_type": "display_data"
    },
    {
     "name": "stdout",
     "output_type": "stream",
     "text": [
      "0.508130081300813\n"
     ]
    },
    {
     "data": {
      "text/latex": [
       "$\\displaystyle P(Purchase|Female)$"
      ],
      "text/plain": [
       "<IPython.core.display.Math object>"
      ]
     },
     "metadata": {},
     "output_type": "display_data"
    },
    {
     "name": "stdout",
     "output_type": "stream",
     "text": [
      "0.6\n"
     ]
    },
    {
     "data": {
      "text/latex": [
       "$\\displaystyle P(NO\\ Purchase|Female)$"
      ],
      "text/plain": [
       "<IPython.core.display.Math object>"
      ]
     },
     "metadata": {},
     "output_type": "display_data"
    },
    {
     "name": "stdout",
     "output_type": "stream",
     "text": [
      "0.4\n"
     ]
    }
   ],
   "source": [
    "display(Math( r'P(Purchase|Male)' ))\n",
    "print(121/246)\n",
    "display(Math( r'P(NO\\ Purchase|Male)' ))\n",
    "print(125/246)\n",
    "display(Math( r'P(Purchase|Female)' ))\n",
    "print(159/265)\n",
    "display(Math( r'P(NO\\ Purchase|Female)' ))\n",
    "print(106/265)"
   ]
  },
  {
   "cell_type": "markdown",
   "id": "affected-pension",
   "metadata": {},
   "source": [
    "## Ratio de probabilidades\n",
    "Cociente entre los casos de éxito sobre los de fracaso en el suceso estudiado y para cada grupo"
   ]
  },
  {
   "cell_type": "code",
   "execution_count": 47,
   "id": "growing-general",
   "metadata": {},
   "outputs": [
    {
     "data": {
      "text/latex": [
       "$\\displaystyle P_m = \\ probabilidad \\ de \\ hacer \\ compras \\ sabiendo \\ que \\ es \\ un \\ hombre$"
      ],
      "text/plain": [
       "<IPython.core.display.Math object>"
      ]
     },
     "metadata": {},
     "output_type": "display_data"
    },
    {
     "data": {
      "text/latex": [
       "$\\displaystyle P_f = \\ probabilidad \\ de \\ hacer \\ compras \\ sabiendo \\ que \\ es \\ una \\ mujer$"
      ],
      "text/plain": [
       "<IPython.core.display.Math object>"
      ]
     },
     "metadata": {},
     "output_type": "display_data"
    },
    {
     "data": {
      "text/latex": [
       "$\\displaystyle odds_{purchase,male} = \\frac{P_m}{1-P_m} = \\frac{N_{p,m}}{N_{\\bar p, m}}$"
      ],
      "text/plain": [
       "<IPython.core.display.Math object>"
      ]
     },
     "metadata": {},
     "output_type": "display_data"
    },
    {
     "data": {
      "text/latex": [
       "$\\displaystyle odds_{purchase,female} = \\frac{P_f}{1-P_f} = \\frac{N_{p,f}}{N_{\\bar p, f}}$"
      ],
      "text/plain": [
       "<IPython.core.display.Math object>"
      ]
     },
     "metadata": {},
     "output_type": "display_data"
    }
   ],
   "source": [
    "display(Math( r'P_m = \\ probabilidad \\ de \\ hacer \\ compras \\ sabiendo \\ que \\ es \\ un \\ hombre'))\n",
    "display(Math( r'P_f = \\ probabilidad \\ de \\ hacer \\ compras \\ sabiendo \\ que \\ es \\ una \\ mujer'))\n",
    "display(Math( r'odds_{purchase,male} = \\frac{P_m}{1-P_m} = \\frac{N_{p,m}}{N_{\\bar p, m}}'))\n",
    "display(Math( r'odds_{purchase,female} = \\frac{P_f}{1-P_f} = \\frac{N_{p,f}}{N_{\\bar p, f}}'))"
   ]
  },
  {
   "cell_type": "code",
   "execution_count": 51,
   "id": "sudden-cream",
   "metadata": {},
   "outputs": [],
   "source": [
    "pm = 121/246\n",
    "pf = 159/265       #SI | NO\n",
    "odds_m = pm/(1-pm) #129/125\n",
    "odds_f = pf/(1-pf) #159/106"
   ]
  },
  {
   "cell_type": "code",
   "execution_count": 52,
   "id": "developed-exception",
   "metadata": {},
   "outputs": [
    {
     "data": {
      "text/plain": [
       "(1.4999999999999998, 0.9680000000000002)"
      ]
     },
     "execution_count": 52,
     "metadata": {},
     "output_type": "execute_result"
    }
   ],
   "source": [
    "odds_f, odds_m"
   ]
  },
  {
   "cell_type": "markdown",
   "id": "least-basis",
   "metadata": {},
   "source": [
    "* Si el ratio es superior a 1, es más probable el éxito que el fracaso. Cuanto mayor es el ratio, más probabilidad de éxito hay en nuestro suceso.\n",
    "* Si el ratio es exactamente a 1, éxito y fracaso son equiprobables (p=0.5)\n",
    "* Si el ratio es menor a 1, el fracaso es más probable que el éxito. Cuanto menor es el ratio, menor es la probabilidad de éxito del suceso."
   ]
  },
  {
   "cell_type": "code",
   "execution_count": 53,
   "id": "global-sister",
   "metadata": {},
   "outputs": [
    {
     "data": {
      "text/latex": [
       "$\\displaystyle odds_{ratio} = \\frac{odds_{purchase,male}}{odds_{purchase,female}}$"
      ],
      "text/plain": [
       "<IPython.core.display.Math object>"
      ]
     },
     "metadata": {},
     "output_type": "display_data"
    }
   ],
   "source": [
    "display(Math( r'odds_{ratio} = \\frac{odds_{purchase,male}}{odds_{purchase,female}}'))"
   ]
  },
  {
   "cell_type": "code",
   "execution_count": 55,
   "id": "solid-ribbon",
   "metadata": {},
   "outputs": [
    {
     "data": {
      "text/plain": [
       "0.6453333333333335"
      ]
     },
     "execution_count": 55,
     "metadata": {},
     "output_type": "execute_result"
    }
   ],
   "source": [
    "odds_ratio = odds_m/odds_f\n",
    "odds_ratio"
   ]
  },
  {
   "cell_type": "markdown",
   "id": "occupied-joyce",
   "metadata": {},
   "source": [
    "## La regresión logistica desde la regresión lineal"
   ]
  },
  {
   "cell_type": "code",
   "execution_count": 61,
   "id": "qualified-ambassador",
   "metadata": {},
   "outputs": [
    {
     "data": {
      "text/latex": [
       "$\\displaystyle  y = \\alpha + \\beta \\cdot x $"
      ],
      "text/plain": [
       "<IPython.core.display.Math object>"
      ]
     },
     "metadata": {},
     "output_type": "display_data"
    },
    {
     "data": {
      "text/latex": [
       "$\\displaystyle  (x,y)\\in[-\\infty, +\\infty]²$"
      ],
      "text/plain": [
       "<IPython.core.display.Math object>"
      ]
     },
     "metadata": {},
     "output_type": "display_data"
    }
   ],
   "source": [
    "# regresion lineal\n",
    "display(Math( r' y = \\alpha + \\beta \\cdot x '))\n",
    "display(Math( r' (x,y)\\in[-\\infty, +\\infty]²'))"
   ]
  },
  {
   "cell_type": "code",
   "execution_count": 79,
   "id": "boring-logistics",
   "metadata": {},
   "outputs": [
    {
     "data": {
      "text/latex": [
       "$\\displaystyle  Y\\in\\{0,1\\}??$"
      ],
      "text/plain": [
       "<IPython.core.display.Math object>"
      ]
     },
     "metadata": {},
     "output_type": "display_data"
    },
    {
     "data": {
      "text/latex": [
       "$\\displaystyle  P\\in[0,1]$"
      ],
      "text/plain": [
       "<IPython.core.display.Math object>"
      ]
     },
     "metadata": {},
     "output_type": "display_data"
    },
    {
     "data": {
      "text/latex": [
       "$\\displaystyle  X\\in[-\\infty, \\infty]$"
      ],
      "text/plain": [
       "<IPython.core.display.Math object>"
      ]
     },
     "metadata": {},
     "output_type": "display_data"
    },
    {
     "data": {
      "text/latex": [
       "$\\displaystyle P = \\alpha + \\beta\\cdot X$"
      ],
      "text/plain": [
       "<IPython.core.display.Math object>"
      ]
     },
     "metadata": {},
     "output_type": "display_data"
    }
   ],
   "source": [
    "# regresion logistica\n",
    "display(Math( r' Y\\in\\{0,1\\}??'))\n",
    "display(Math( r' P\\in[0,1]'))\n",
    "display(Math( r' X\\in[-\\infty, \\infty]'))\n",
    "\n",
    "display(Math( r'P = \\alpha + \\beta\\cdot X'))"
   ]
  },
  {
   "cell_type": "markdown",
   "id": "honest-vatican",
   "metadata": {},
   "source": [
    "P es la probabilidad condicionada de éxito o de fracaso condicionada a la presencia de la variable X"
   ]
  },
  {
   "cell_type": "code",
   "execution_count": 74,
   "id": "victorian-advice",
   "metadata": {},
   "outputs": [
    {
     "data": {
      "text/latex": [
       "$\\displaystyle \\frac{P}{1-P} = \\alpha + \\beta\\cdot X\\in [0, +\\infty]$"
      ],
      "text/plain": [
       "<IPython.core.display.Math object>"
      ]
     },
     "metadata": {},
     "output_type": "display_data"
    }
   ],
   "source": [
    "display(Math( r'\\frac{P}{1-P} = \\alpha + \\beta\\cdot X\\in [0, +\\infty]'))"
   ]
  },
  {
   "cell_type": "code",
   "execution_count": 75,
   "id": "bright-hampton",
   "metadata": {},
   "outputs": [
    {
     "data": {
      "text/latex": [
       "$\\displaystyle ln(\\frac{P}{1-P}) = \\alpha + \\beta\\cdot X$"
      ],
      "text/plain": [
       "<IPython.core.display.Math object>"
      ]
     },
     "metadata": {},
     "output_type": "display_data"
    }
   ],
   "source": [
    "display(Math( r'ln(\\frac{P}{1-P}) = \\alpha + \\beta\\cdot X'))"
   ]
  },
  {
   "cell_type": "code",
   "execution_count": 78,
   "id": "abandoned-saver",
   "metadata": {},
   "outputs": [
    {
     "data": {
      "text/latex": [
       "$\\displaystyle \\begin{cases}\\frac{P}{1-P}\\in[0,1]\\Rightarrow ln(\\frac{P}{1-P})\\in[-\\infty,0]\\\\ \\frac{P}{1-P}\\in[1,+\\infty]\\Rightarrow ln(\\frac{P}{1-P})\\in[0, \\infty]\\end{cases}$"
      ],
      "text/plain": [
       "<IPython.core.display.Math object>"
      ]
     },
     "metadata": {},
     "output_type": "display_data"
    }
   ],
   "source": [
    "display(Math( r'\\begin{cases}\\frac{P}{1-P}\\in[0,1]\\Rightarrow ln(\\frac{P}{1-P})\\in[-\\infty,0]\\\\ \\frac{P}{1-P}\\in[1,+\\infty]\\Rightarrow ln(\\frac{P}{1-P})\\in[0, \\infty]\\end{cases}'))"
   ]
  },
  {
   "cell_type": "code",
   "execution_count": 82,
   "id": "about-stuff",
   "metadata": {},
   "outputs": [
    {
     "data": {
      "text/latex": [
       "$\\displaystyle ln(\\frac{P}{1-P}) = \\alpha + \\beta\\cdot X$"
      ],
      "text/plain": [
       "<IPython.core.display.Math object>"
      ]
     },
     "metadata": {},
     "output_type": "display_data"
    },
    {
     "data": {
      "text/latex": [
       "$\\displaystyle \\frac{P}{1-P} = e^{\\alpha + \\beta\\cdot X}$"
      ],
      "text/plain": [
       "<IPython.core.display.Math object>"
      ]
     },
     "metadata": {},
     "output_type": "display_data"
    },
    {
     "data": {
      "text/latex": [
       "$\\displaystyle P = \\frac{e^{\\alpha + \\beta\\cdot X}}{1+e^{\\alpha + \\beta\\cdot X}}$"
      ],
      "text/plain": [
       "<IPython.core.display.Math object>"
      ]
     },
     "metadata": {},
     "output_type": "display_data"
    },
    {
     "data": {
      "text/latex": [
       "$\\displaystyle P = \\frac{1}{1+e^{-(\\alpha + \\beta\\cdot X)}}$"
      ],
      "text/plain": [
       "<IPython.core.display.Math object>"
      ]
     },
     "metadata": {},
     "output_type": "display_data"
    }
   ],
   "source": [
    "display(Math( r'ln(\\frac{P}{1-P}) = \\alpha + \\beta\\cdot X'))\n",
    "display(Math( r'\\frac{P}{1-P} = e^{\\alpha + \\beta\\cdot X}'))\n",
    "display(Math( r'P = \\frac{e^{\\alpha + \\beta\\cdot X}}{1+e^{\\alpha + \\beta\\cdot X}}'))\n",
    "display(Math( r'P = \\frac{1}{1+e^{-(\\alpha + \\beta\\cdot X)}}'))"
   ]
  },
  {
   "cell_type": "markdown",
   "id": "going-design",
   "metadata": {},
   "source": [
    "* Si a + bx es muy pequeño (negativo), entonces P tiende a 0\n",
    "* Si a + bx = 0, P = 0.5\n",
    "* Si a + bx es muy grande (positivo), entonces P tiende a 1"
   ]
  },
  {
   "cell_type": "markdown",
   "id": "visible-hypothetical",
   "metadata": {},
   "source": [
    "### Regresión logística múltiple"
   ]
  },
  {
   "cell_type": "code",
   "execution_count": 83,
   "id": "sitting-wisdom",
   "metadata": {},
   "outputs": [
    {
     "data": {
      "text/latex": [
       "$\\displaystyle P = \\frac{1}{1+e^{-(\\alpha + \\sum_{i=1}^n \\beta_i\\cdot x_i)}}$"
      ],
      "text/plain": [
       "<IPython.core.display.Math object>"
      ]
     },
     "metadata": {},
     "output_type": "display_data"
    }
   ],
   "source": [
    "display(Math( r'P = \\frac{1}{1+e^{-(\\alpha + \\sum_{i=1}^n \\beta_i\\cdot x_i)}}'))"
   ]
  },
  {
   "cell_type": "code",
   "execution_count": 87,
   "id": "organic-magazine",
   "metadata": {},
   "outputs": [
    {
     "data": {
      "text/latex": [
       "$\\displaystyle \\vec{\\beta} = (\\beta_1,\\beta_2,\\cdots,\\beta_n)$"
      ],
      "text/plain": [
       "<IPython.core.display.Math object>"
      ]
     },
     "metadata": {},
     "output_type": "display_data"
    },
    {
     "data": {
      "text/latex": [
       "$\\displaystyle \\vec{X} = (x_1,x_2,\\cdots,\\x_n)$"
      ],
      "text/plain": [
       "<IPython.core.display.Math object>"
      ]
     },
     "metadata": {},
     "output_type": "display_data"
    },
    {
     "data": {
      "text/latex": [
       "$\\displaystyle P = \\frac{1}{1+e^{-(\\alpha + \\vec{\\beta_i}\\cdot \\vec{X})}}$"
      ],
      "text/plain": [
       "<IPython.core.display.Math object>"
      ]
     },
     "metadata": {},
     "output_type": "display_data"
    }
   ],
   "source": [
    "display(Math( r'\\vec{\\beta} = (\\beta_1,\\beta_2,\\cdots,\\beta_n)'))\n",
    "display(Math( r'\\vec{X} = (x_1,x_2,\\cdots,\\x_n)'))\n",
    "display(Math( r'P = \\frac{1}{1+e^{-(\\alpha + \\vec{\\beta_i}\\cdot \\vec{X})}}'))"
   ]
  },
  {
   "cell_type": "code",
   "execution_count": null,
   "id": "binding-invite",
   "metadata": {},
   "outputs": [],
   "source": []
  }
 ],
 "metadata": {
  "kernelspec": {
   "display_name": "Python 3",
   "language": "python",
   "name": "python3"
  },
  "language_info": {
   "codemirror_mode": {
    "name": "ipython",
    "version": 3
   },
   "file_extension": ".py",
   "mimetype": "text/x-python",
   "name": "python",
   "nbconvert_exporter": "python",
   "pygments_lexer": "ipython3",
   "version": "3.7.10"
  }
 },
 "nbformat": 4,
 "nbformat_minor": 5
}
