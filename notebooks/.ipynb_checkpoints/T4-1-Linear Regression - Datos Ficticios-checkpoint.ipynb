{
 "cells": [
  {
   "cell_type": "markdown",
   "id": "fossil-platform",
   "metadata": {},
   "source": [
    "# Modelos de Regresión Lineal\n",
    "## Modelo con datos simulados\n",
    "* y = a + b * x\n",
    "* x : 100 valores distribuídos según una N(1.5, 2.5)\n",
    "* Ye = 10 + 2.5 * x  + e\n",
    "* e estará distribuida segun una N(0, 0.8)"
   ]
  },
  {
   "cell_type": "code",
   "execution_count": 76,
   "id": "western-taste",
   "metadata": {},
   "outputs": [],
   "source": [
    "import pandas as pd\n",
    "import numpy as np\n",
    "import matplotlib.pyplot as plt"
   ]
  },
  {
   "cell_type": "code",
   "execution_count": 77,
   "id": "exact-supervisor",
   "metadata": {},
   "outputs": [],
   "source": [
    "x = 1.5 + 2.5 * np.random.randn(100)"
   ]
  },
  {
   "cell_type": "code",
   "execution_count": 78,
   "id": "hispanic-convertible",
   "metadata": {},
   "outputs": [],
   "source": [
    "res = 0 + 0.8 * np.random.randn(100)"
   ]
  },
  {
   "cell_type": "code",
   "execution_count": 79,
   "id": "incorporate-winner",
   "metadata": {},
   "outputs": [],
   "source": [
    "y_pred = 10 + 2.5 * x"
   ]
  },
  {
   "cell_type": "code",
   "execution_count": 80,
   "id": "cardiovascular-honey",
   "metadata": {},
   "outputs": [],
   "source": [
    "y_act = 10 + 2.5 * x + res"
   ]
  },
  {
   "cell_type": "code",
   "execution_count": 81,
   "id": "useful-diploma",
   "metadata": {},
   "outputs": [],
   "source": [
    "x_list = x.tolist()\n",
    "y_pred_list = y_pred.tolist()\n",
    "y_act_list = y_act.tolist()"
   ]
  },
  {
   "cell_type": "code",
   "execution_count": 82,
   "id": "seventh-subsection",
   "metadata": {},
   "outputs": [],
   "source": [
    "data = pd.DataFrame(\n",
    "    {\n",
    "        \"x\": x_list,\n",
    "        \"y_actual\": y_act_list,\n",
    "        \"y_prediccion\": y_pred_list\n",
    "    }\n",
    ")"
   ]
  },
  {
   "cell_type": "code",
   "execution_count": 83,
   "id": "activated-pioneer",
   "metadata": {},
   "outputs": [
    {
     "data": {
      "text/html": [
       "<div>\n",
       "<style scoped>\n",
       "    .dataframe tbody tr th:only-of-type {\n",
       "        vertical-align: middle;\n",
       "    }\n",
       "\n",
       "    .dataframe tbody tr th {\n",
       "        vertical-align: top;\n",
       "    }\n",
       "\n",
       "    .dataframe thead th {\n",
       "        text-align: right;\n",
       "    }\n",
       "</style>\n",
       "<table border=\"1\" class=\"dataframe\">\n",
       "  <thead>\n",
       "    <tr style=\"text-align: right;\">\n",
       "      <th></th>\n",
       "      <th>x</th>\n",
       "      <th>y_actual</th>\n",
       "      <th>y_prediccion</th>\n",
       "    </tr>\n",
       "  </thead>\n",
       "  <tbody>\n",
       "    <tr>\n",
       "      <th>0</th>\n",
       "      <td>5.627742</td>\n",
       "      <td>23.735835</td>\n",
       "      <td>24.069356</td>\n",
       "    </tr>\n",
       "    <tr>\n",
       "      <th>1</th>\n",
       "      <td>3.205482</td>\n",
       "      <td>17.986364</td>\n",
       "      <td>18.013704</td>\n",
       "    </tr>\n",
       "    <tr>\n",
       "      <th>2</th>\n",
       "      <td>1.190375</td>\n",
       "      <td>12.669222</td>\n",
       "      <td>12.975938</td>\n",
       "    </tr>\n",
       "    <tr>\n",
       "      <th>3</th>\n",
       "      <td>4.074204</td>\n",
       "      <td>19.411661</td>\n",
       "      <td>20.185511</td>\n",
       "    </tr>\n",
       "    <tr>\n",
       "      <th>4</th>\n",
       "      <td>-0.611283</td>\n",
       "      <td>8.179544</td>\n",
       "      <td>8.471794</td>\n",
       "    </tr>\n",
       "  </tbody>\n",
       "</table>\n",
       "</div>"
      ],
      "text/plain": [
       "          x   y_actual  y_prediccion\n",
       "0  5.627742  23.735835     24.069356\n",
       "1  3.205482  17.986364     18.013704\n",
       "2  1.190375  12.669222     12.975938\n",
       "3  4.074204  19.411661     20.185511\n",
       "4 -0.611283   8.179544      8.471794"
      ]
     },
     "execution_count": 83,
     "metadata": {},
     "output_type": "execute_result"
    }
   ],
   "source": [
    "data.head()"
   ]
  },
  {
   "cell_type": "code",
   "execution_count": 84,
   "id": "appreciated-humanity",
   "metadata": {},
   "outputs": [],
   "source": [
    "y_mean = [np.mean(y_act) for i in range(1, len(x_list) + 1)]"
   ]
  },
  {
   "cell_type": "code",
   "execution_count": 85,
   "id": "decreased-blink",
   "metadata": {},
   "outputs": [
    {
     "data": {
      "text/plain": [
       "Text(0.5, 1.0, 'Valor Actual VS Predicción')"
      ]
     },
     "execution_count": 85,
     "metadata": {},
     "output_type": "execute_result"
    },
    {
     "data": {
      "image/png": "[encoded data removed]",
      "text/plain": [
       "<Figure size 432x288 with 1 Axes>"
      ]
     },
     "metadata": {
      "needs_background": "light"
     },
     "output_type": "display_data"
    }
   ],
   "source": [
    "%matplotlib inline\n",
    "plt.plot(x, y_pred)\n",
    "plt.plot(x, y_act, \"ro\")\n",
    "plt.plot(x, y_mean, \"g\")\n",
    "plt.title(\"Valor Actual VS Predicción\")"
   ]
  },
  {
   "cell_type": "code",
   "execution_count": 86,
   "id": "introductory-congress",
   "metadata": {},
   "outputs": [],
   "source": [
    "data[\"SSR\"] = (data[\"y_prediccion\"] - np.mean(y_act))**2\n",
    "data[\"SSD\"] = (data[\"y_prediccion\"] - data[\"y_actual\"])**2\n",
    "data[\"SST\"] = (data[\"y_actual\"] - np.mean(y_act))**2"
   ]
  },
  {
   "cell_type": "code",
   "execution_count": 87,
   "id": "faced-galaxy",
   "metadata": {},
   "outputs": [
    {
     "data": {
      "text/html": [
       "<div>\n",
       "<style scoped>\n",
       "    .dataframe tbody tr th:only-of-type {\n",
       "        vertical-align: middle;\n",
       "    }\n",
       "\n",
       "    .dataframe tbody tr th {\n",
       "        vertical-align: top;\n",
       "    }\n",
       "\n",
       "    .dataframe thead th {\n",
       "        text-align: right;\n",
       "    }\n",
       "</style>\n",
       "<table border=\"1\" class=\"dataframe\">\n",
       "  <thead>\n",
       "    <tr style=\"text-align: right;\">\n",
       "      <th></th>\n",
       "      <th>x</th>\n",
       "      <th>y_actual</th>\n",
       "      <th>y_prediccion</th>\n",
       "      <th>SSR</th>\n",
       "      <th>SSD</th>\n",
       "      <th>SST</th>\n",
       "    </tr>\n",
       "  </thead>\n",
       "  <tbody>\n",
       "    <tr>\n",
       "      <th>0</th>\n",
       "      <td>5.627742</td>\n",
       "      <td>23.735835</td>\n",
       "      <td>24.069356</td>\n",
       "      <td>131.271788</td>\n",
       "      <td>0.111236</td>\n",
       "      <td>123.740464</td>\n",
       "    </tr>\n",
       "    <tr>\n",
       "      <th>1</th>\n",
       "      <td>3.205482</td>\n",
       "      <td>17.986364</td>\n",
       "      <td>18.013704</td>\n",
       "      <td>29.178774</td>\n",
       "      <td>0.000747</td>\n",
       "      <td>28.884153</td>\n",
       "    </tr>\n",
       "    <tr>\n",
       "      <th>2</th>\n",
       "      <td>1.190375</td>\n",
       "      <td>12.669222</td>\n",
       "      <td>12.975938</td>\n",
       "      <td>0.132476</td>\n",
       "      <td>0.094075</td>\n",
       "      <td>0.003278</td>\n",
       "    </tr>\n",
       "    <tr>\n",
       "      <th>3</th>\n",
       "      <td>4.074204</td>\n",
       "      <td>19.411661</td>\n",
       "      <td>20.185511</td>\n",
       "      <td>57.358577</td>\n",
       "      <td>0.598844</td>\n",
       "      <td>46.235847</td>\n",
       "    </tr>\n",
       "    <tr>\n",
       "      <th>4</th>\n",
       "      <td>-0.611283</td>\n",
       "      <td>8.179544</td>\n",
       "      <td>8.471794</td>\n",
       "      <td>17.141027</td>\n",
       "      <td>0.085410</td>\n",
       "      <td>19.646365</td>\n",
       "    </tr>\n",
       "  </tbody>\n",
       "</table>\n",
       "</div>"
      ],
      "text/plain": [
       "          x   y_actual  y_prediccion         SSR       SSD         SST\n",
       "0  5.627742  23.735835     24.069356  131.271788  0.111236  123.740464\n",
       "1  3.205482  17.986364     18.013704   29.178774  0.000747   28.884153\n",
       "2  1.190375  12.669222     12.975938    0.132476  0.094075    0.003278\n",
       "3  4.074204  19.411661     20.185511   57.358577  0.598844   46.235847\n",
       "4 -0.611283   8.179544      8.471794   17.141027  0.085410   19.646365"
      ]
     },
     "execution_count": 87,
     "metadata": {},
     "output_type": "execute_result"
    }
   ],
   "source": [
    "data.head()"
   ]
  },
  {
   "cell_type": "code",
   "execution_count": 88,
   "id": "pleasant-egypt",
   "metadata": {},
   "outputs": [],
   "source": [
    "SSR = sum(data[\"SSR\"])\n",
    "SSD = sum(data[\"SSD\"])\n",
    "SST = sum(data[\"SST\"])"
   ]
  },
  {
   "cell_type": "code",
   "execution_count": 89,
   "id": "necessary-omaha",
   "metadata": {},
   "outputs": [
    {
     "data": {
      "text/plain": [
       "3692.1137358665515"
      ]
     },
     "execution_count": 89,
     "metadata": {},
     "output_type": "execute_result"
    }
   ],
   "source": [
    "SSR"
   ]
  },
  {
   "cell_type": "code",
   "execution_count": 90,
   "id": "indonesian-tractor",
   "metadata": {},
   "outputs": [
    {
     "data": {
      "text/plain": [
       "74.91989395508213"
      ]
     },
     "execution_count": 90,
     "metadata": {},
     "output_type": "execute_result"
    }
   ],
   "source": [
    "SSD"
   ]
  },
  {
   "cell_type": "code",
   "execution_count": 91,
   "id": "competitive-perfume",
   "metadata": {},
   "outputs": [
    {
     "data": {
      "text/plain": [
       "3779.483236987196"
      ]
     },
     "execution_count": 91,
     "metadata": {},
     "output_type": "execute_result"
    }
   ],
   "source": [
    "SST"
   ]
  },
  {
   "cell_type": "code",
   "execution_count": 99,
   "id": "following-compression",
   "metadata": {},
   "outputs": [
    {
     "data": {
      "text/plain": [
       "3767.0336298216334"
      ]
     },
     "execution_count": 99,
     "metadata": {},
     "output_type": "execute_result"
    }
   ],
   "source": [
    "SSD+SSR"
   ]
  },
  {
   "cell_type": "code",
   "execution_count": 93,
   "id": "quarterly-finger",
   "metadata": {},
   "outputs": [],
   "source": [
    "R2 = SSR/SST"
   ]
  },
  {
   "cell_type": "code",
   "execution_count": 94,
   "id": "mathematical-portland",
   "metadata": {},
   "outputs": [
    {
     "data": {
      "text/plain": [
       "0.9768832150740557"
      ]
     },
     "execution_count": 94,
     "metadata": {},
     "output_type": "execute_result"
    }
   ],
   "source": [
    "R2"
   ]
  },
  {
   "cell_type": "code",
   "execution_count": 98,
   "id": "arabic-commons",
   "metadata": {},
   "outputs": [
    {
     "data": {
      "text/plain": [
       "(array([ 5.,  2., 14., 14., 16., 16., 11., 14.,  5.,  3.]),\n",
       " array([-1.74974408, -1.36540264, -0.98106121, -0.59671977, -0.21237834,\n",
       "         0.1719631 ,  0.55630453,  0.94064597,  1.3249874 ,  1.70932884,\n",
       "         2.09367028]),\n",
       " <BarContainer object of 10 artists>)"
      ]
     },
     "execution_count": 98,
     "metadata": {},
     "output_type": "execute_result"
    },
    {
     "data": {
      "image/png": "[encoded data removed]",
      "text/plain": [
       "<Figure size 432x288 with 1 Axes>"
      ]
     },
     "metadata": {
      "needs_background": "light"
     },
     "output_type": "display_data"
    }
   ],
   "source": [
    "plt.hist(data[\"y_prediccion\"] - data[\"y_actual\"])"
   ]
  },
  {
   "cell_type": "code",
   "execution_count": null,
   "id": "surprising-worker",
   "metadata": {},
   "outputs": [],
   "source": []
  }
 ],
 "metadata": {
  "kernelspec": {
   "display_name": "Python 3",
   "language": "python",
   "name": "python3"
  },
  "language_info": {
   "codemirror_mode": {
    "name": "ipython",
    "version": 3
   },
   "file_extension": ".py",
   "mimetype": "text/x-python",
   "name": "python",
   "nbconvert_exporter": "python",
   "pygments_lexer": "ipython3",
   "version": "3.7.10"
  }
 },
 "nbformat": 4,
 "nbformat_minor": 5
}
