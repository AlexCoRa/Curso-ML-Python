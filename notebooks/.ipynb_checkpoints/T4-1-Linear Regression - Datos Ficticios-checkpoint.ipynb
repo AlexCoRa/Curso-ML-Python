{
 "cells": [
  {
   "cell_type": "markdown",
   "id": "public-light",
   "metadata": {},
   "source": [
    "# Modelos de Regresión Lineal\n",
    "## Modelo con datos simulados\n",
    "* y = a + b * x\n",
    "* x : 100 valores distribuídos según una N(1.5, 2.5)\n",
    "* Ye = 10 + 2.5 * x  + e\n",
    "* e estará distribuida segun una N(0, 0.8)"
   ]
  },
  {
   "cell_type": "code",
   "execution_count": 205,
   "id": "catholic-relay",
   "metadata": {},
   "outputs": [],
   "source": [
    "import pandas as pd\n",
    "import numpy as np\n",
    "import matplotlib.pyplot as plt"
   ]
  },
  {
   "cell_type": "code",
   "execution_count": 206,
   "id": "authorized-clearance",
   "metadata": {},
   "outputs": [],
   "source": [
    "x = 1.5 + 2.5 * np.random.randn(100)"
   ]
  },
  {
   "cell_type": "code",
   "execution_count": 207,
   "id": "foster-directive",
   "metadata": {},
   "outputs": [],
   "source": [
    "res = 0 + 0.8 * np.random.randn(100)"
   ]
  },
  {
   "cell_type": "code",
   "execution_count": 208,
   "id": "secret-brain",
   "metadata": {},
   "outputs": [],
   "source": [
    "y_pred = 5 + 0.5 * x"
   ]
  },
  {
   "cell_type": "code",
   "execution_count": 209,
   "id": "capable-alert",
   "metadata": {},
   "outputs": [],
   "source": [
    "y_act = 5 + 0.5 * x + res"
   ]
  },
  {
   "cell_type": "code",
   "execution_count": 210,
   "id": "bottom-ability",
   "metadata": {},
   "outputs": [],
   "source": [
    "x_list = x.tolist()\n",
    "y_pred_list = y_pred.tolist()\n",
    "y_act_list = y_act.tolist()"
   ]
  },
  {
   "cell_type": "code",
   "execution_count": 211,
   "id": "vocational-oasis",
   "metadata": {},
   "outputs": [],
   "source": [
    "data = pd.DataFrame(\n",
    "    {\n",
    "        \"x\": x_list,\n",
    "        \"y_actual\": y_act_list,\n",
    "        \"y_prediccion\": y_pred_list\n",
    "    }\n",
    ")"
   ]
  },
  {
   "cell_type": "code",
   "execution_count": 212,
   "id": "introductory-tissue",
   "metadata": {},
   "outputs": [
    {
     "data": {
      "text/html": [
       "<div>\n",
       "<style scoped>\n",
       "    .dataframe tbody tr th:only-of-type {\n",
       "        vertical-align: middle;\n",
       "    }\n",
       "\n",
       "    .dataframe tbody tr th {\n",
       "        vertical-align: top;\n",
       "    }\n",
       "\n",
       "    .dataframe thead th {\n",
       "        text-align: right;\n",
       "    }\n",
       "</style>\n",
       "<table border=\"1\" class=\"dataframe\">\n",
       "  <thead>\n",
       "    <tr style=\"text-align: right;\">\n",
       "      <th></th>\n",
       "      <th>x</th>\n",
       "      <th>y_actual</th>\n",
       "      <th>y_prediccion</th>\n",
       "    </tr>\n",
       "  </thead>\n",
       "  <tbody>\n",
       "    <tr>\n",
       "      <th>0</th>\n",
       "      <td>3.916124</td>\n",
       "      <td>6.931456</td>\n",
       "      <td>6.958062</td>\n",
       "    </tr>\n",
       "    <tr>\n",
       "      <th>1</th>\n",
       "      <td>2.207195</td>\n",
       "      <td>5.727979</td>\n",
       "      <td>6.103598</td>\n",
       "    </tr>\n",
       "    <tr>\n",
       "      <th>2</th>\n",
       "      <td>-2.475065</td>\n",
       "      <td>5.138024</td>\n",
       "      <td>3.762468</td>\n",
       "    </tr>\n",
       "    <tr>\n",
       "      <th>3</th>\n",
       "      <td>3.784831</td>\n",
       "      <td>6.223033</td>\n",
       "      <td>6.892415</td>\n",
       "    </tr>\n",
       "    <tr>\n",
       "      <th>4</th>\n",
       "      <td>1.502409</td>\n",
       "      <td>5.075540</td>\n",
       "      <td>5.751204</td>\n",
       "    </tr>\n",
       "  </tbody>\n",
       "</table>\n",
       "</div>"
      ],
      "text/plain": [
       "          x  y_actual  y_prediccion\n",
       "0  3.916124  6.931456      6.958062\n",
       "1  2.207195  5.727979      6.103598\n",
       "2 -2.475065  5.138024      3.762468\n",
       "3  3.784831  6.223033      6.892415\n",
       "4  1.502409  5.075540      5.751204"
      ]
     },
     "execution_count": 212,
     "metadata": {},
     "output_type": "execute_result"
    }
   ],
   "source": [
    "data.head()"
   ]
  },
  {
   "cell_type": "code",
   "execution_count": 213,
   "id": "french-password",
   "metadata": {},
   "outputs": [],
   "source": [
    "y_mean = [np.mean(y_act) for i in range(1, len(x_list) + 1)]"
   ]
  },
  {
   "cell_type": "code",
   "execution_count": 214,
   "id": "lightweight-blackjack",
   "metadata": {},
   "outputs": [
    {
     "data": {
      "text/plain": [
       "Text(0.5, 1.0, 'Valor Actual VS Predicción')"
      ]
     },
     "execution_count": 214,
     "metadata": {},
     "output_type": "execute_result"
    },
    {
     "data": {
      "image/png": "[encoded data removed]",
      "text/plain": [
       "<Figure size 432x288 with 1 Axes>"
      ]
     },
     "metadata": {
      "needs_background": "light"
     },
     "output_type": "display_data"
    }
   ],
   "source": [
    "%matplotlib inline\n",
    "plt.plot(data[\"x\"], data[\"y_prediccion\"])\n",
    "plt.plot(data[\"x\"], data[\"y_actual\"], \"ro\")\n",
    "plt.plot(data[\"x\"], y_mean, \"g\")\n",
    "plt.title(\"Valor Actual VS Predicción\")"
   ]
  },
  {
   "cell_type": "markdown",
   "id": "featured-studio",
   "metadata": {},
   "source": [
    "# ¿Como es la predicción de buena?\n",
    "* SST = SSD + SSR\n",
    "* SST: Variabilidad de los datos con respecto de su media\n",
    "* SSD: Diferencia entre los datos originales y las predicciones que el modelo no es capaz de explicar (errores que deberian seguir una distribución normal)\n",
    "* SSR: Diferencia entre la regresión y el valor medio que el modelo busca explicar\n",
    "* R2 = SSR/SST, coeficiente de determinación entre 0 y 1"
   ]
  },
  {
   "cell_type": "code",
   "execution_count": 215,
   "id": "bacterial-console",
   "metadata": {},
   "outputs": [],
   "source": [
    "data[\"SSR\"] = (data[\"y_prediccion\"] - np.mean(y_act))**2\n",
    "data[\"SSD\"] = (data[\"y_prediccion\"] - data[\"y_actual\"])**2\n",
    "data[\"SST\"] = (data[\"y_actual\"] - np.mean(y_act))**2"
   ]
  },
  {
   "cell_type": "code",
   "execution_count": 216,
   "id": "marked-limit",
   "metadata": {},
   "outputs": [
    {
     "data": {
      "text/html": [
       "<div>\n",
       "<style scoped>\n",
       "    .dataframe tbody tr th:only-of-type {\n",
       "        vertical-align: middle;\n",
       "    }\n",
       "\n",
       "    .dataframe tbody tr th {\n",
       "        vertical-align: top;\n",
       "    }\n",
       "\n",
       "    .dataframe thead th {\n",
       "        text-align: right;\n",
       "    }\n",
       "</style>\n",
       "<table border=\"1\" class=\"dataframe\">\n",
       "  <thead>\n",
       "    <tr style=\"text-align: right;\">\n",
       "      <th></th>\n",
       "      <th>x</th>\n",
       "      <th>y_actual</th>\n",
       "      <th>y_prediccion</th>\n",
       "      <th>SSR</th>\n",
       "      <th>SSD</th>\n",
       "      <th>SST</th>\n",
       "    </tr>\n",
       "  </thead>\n",
       "  <tbody>\n",
       "    <tr>\n",
       "      <th>0</th>\n",
       "      <td>3.916124</td>\n",
       "      <td>6.931456</td>\n",
       "      <td>6.958062</td>\n",
       "      <td>1.094584</td>\n",
       "      <td>0.000708</td>\n",
       "      <td>1.039620</td>\n",
       "    </tr>\n",
       "    <tr>\n",
       "      <th>1</th>\n",
       "      <td>2.207195</td>\n",
       "      <td>5.727979</td>\n",
       "      <td>6.103598</td>\n",
       "      <td>0.036772</td>\n",
       "      <td>0.141089</td>\n",
       "      <td>0.033804</td>\n",
       "    </tr>\n",
       "    <tr>\n",
       "      <th>2</th>\n",
       "      <td>-2.475065</td>\n",
       "      <td>5.138024</td>\n",
       "      <td>3.762468</td>\n",
       "      <td>4.619795</td>\n",
       "      <td>1.892157</td>\n",
       "      <td>0.598788</td>\n",
       "    </tr>\n",
       "    <tr>\n",
       "      <th>3</th>\n",
       "      <td>3.784831</td>\n",
       "      <td>6.223033</td>\n",
       "      <td>6.892415</td>\n",
       "      <td>0.961532</td>\n",
       "      <td>0.448072</td>\n",
       "      <td>0.096842</td>\n",
       "    </tr>\n",
       "    <tr>\n",
       "      <th>4</th>\n",
       "      <td>1.502409</td>\n",
       "      <td>5.075540</td>\n",
       "      <td>5.751204</td>\n",
       "      <td>0.025803</td>\n",
       "      <td>0.456522</td>\n",
       "      <td>0.699395</td>\n",
       "    </tr>\n",
       "  </tbody>\n",
       "</table>\n",
       "</div>"
      ],
      "text/plain": [
       "          x  y_actual  y_prediccion       SSR       SSD       SST\n",
       "0  3.916124  6.931456      6.958062  1.094584  0.000708  1.039620\n",
       "1  2.207195  5.727979      6.103598  0.036772  0.141089  0.033804\n",
       "2 -2.475065  5.138024      3.762468  4.619795  1.892157  0.598788\n",
       "3  3.784831  6.223033      6.892415  0.961532  0.448072  0.096842\n",
       "4  1.502409  5.075540      5.751204  0.025803  0.456522  0.699395"
      ]
     },
     "execution_count": 216,
     "metadata": {},
     "output_type": "execute_result"
    }
   ],
   "source": [
    "data.head()"
   ]
  },
  {
   "cell_type": "code",
   "execution_count": 217,
   "id": "seven-intellectual",
   "metadata": {},
   "outputs": [],
   "source": [
    "SSR = sum(data[\"SSR\"])\n",
    "SSD = sum(data[\"SSD\"])\n",
    "SST = sum(data[\"SST\"])"
   ]
  },
  {
   "cell_type": "code",
   "execution_count": 218,
   "id": "commercial-creativity",
   "metadata": {},
   "outputs": [
    {
     "data": {
      "text/plain": [
       "166.38666075142095"
      ]
     },
     "execution_count": 218,
     "metadata": {},
     "output_type": "execute_result"
    }
   ],
   "source": [
    "SSR"
   ]
  },
  {
   "cell_type": "code",
   "execution_count": 219,
   "id": "intellectual-visibility",
   "metadata": {},
   "outputs": [
    {
     "data": {
      "text/plain": [
       "83.98823033581232"
      ]
     },
     "execution_count": 219,
     "metadata": {},
     "output_type": "execute_result"
    }
   ],
   "source": [
    "SSD"
   ]
  },
  {
   "cell_type": "code",
   "execution_count": 220,
   "id": "actual-battery",
   "metadata": {},
   "outputs": [
    {
     "data": {
      "text/plain": [
       "276.9197328155623"
      ]
     },
     "execution_count": 220,
     "metadata": {},
     "output_type": "execute_result"
    }
   ],
   "source": [
    "SST"
   ]
  },
  {
   "cell_type": "code",
   "execution_count": 221,
   "id": "parental-quebec",
   "metadata": {},
   "outputs": [
    {
     "data": {
      "text/plain": [
       "250.37489108723327"
      ]
     },
     "execution_count": 221,
     "metadata": {},
     "output_type": "execute_result"
    }
   ],
   "source": [
    "SSD+SSR"
   ]
  },
  {
   "cell_type": "code",
   "execution_count": 222,
   "id": "false-freedom",
   "metadata": {},
   "outputs": [],
   "source": [
    "R2 = SSR/SST"
   ]
  },
  {
   "cell_type": "code",
   "execution_count": 223,
   "id": "distinct-anderson",
   "metadata": {},
   "outputs": [
    {
     "data": {
      "text/plain": [
       "0.6008479751865136"
      ]
     },
     "execution_count": 223,
     "metadata": {},
     "output_type": "execute_result"
    }
   ],
   "source": [
    "R2"
   ]
  },
  {
   "cell_type": "code",
   "execution_count": 224,
   "id": "proprietary-webmaster",
   "metadata": {},
   "outputs": [
    {
     "data": {
      "text/plain": [
       "(array([ 2.,  3.,  1., 10., 10., 15., 21., 18., 11.,  9.]),\n",
       " array([-2.76349554, -2.3333404 , -1.90318525, -1.47303011, -1.04287497,\n",
       "        -0.61271983, -0.18256468,  0.24759046,  0.6777456 ,  1.10790074,\n",
       "         1.53805588]),\n",
       " <BarContainer object of 10 artists>)"
      ]
     },
     "execution_count": 224,
     "metadata": {},
     "output_type": "execute_result"
    },
    {
     "data": {
      "image/png": "[encoded data removed]",
      "text/plain": [
       "<Figure size 432x288 with 1 Axes>"
      ]
     },
     "metadata": {
      "needs_background": "light"
     },
     "output_type": "display_data"
    }
   ],
   "source": [
    "plt.hist(data[\"y_prediccion\"] - data[\"y_actual\"])"
   ]
  },
  {
   "cell_type": "markdown",
   "id": "neural-documentation",
   "metadata": {},
   "source": [
    "# Obteniendo la recta de regresion\n",
    "* y = a + b * x\n",
    "* b = sum((xi - x_m) * (y_i - y_m))/ sum((xi - x_m)²)\n",
    "* a = y_m - b * x_m"
   ]
  },
  {
   "cell_type": "code",
   "execution_count": 225,
   "id": "neutral-mapping",
   "metadata": {},
   "outputs": [
    {
     "data": {
      "text/plain": [
       "(1.685825133484255, 5.911838296785424)"
      ]
     },
     "execution_count": 225,
     "metadata": {},
     "output_type": "execute_result"
    }
   ],
   "source": [
    "x_mean = np.mean(data[\"x\"])\n",
    "y_mean = np.mean(data[\"y_actual\"])\n",
    "x_mean, y_mean"
   ]
  },
  {
   "cell_type": "code",
   "execution_count": 226,
   "id": "organic-methodology",
   "metadata": {},
   "outputs": [],
   "source": [
    "data[\"beta_numerador\"] = (data[\"x\"] - x_mean) * (data[\"y_actual\"] - y_mean)\n",
    "data[\"beta_denominador\"] = (data[\"x\"] - x_mean)**2"
   ]
  },
  {
   "cell_type": "code",
   "execution_count": 227,
   "id": "surprised-robert",
   "metadata": {},
   "outputs": [],
   "source": [
    "beta = sum(data[\"beta_numerador\"])/sum(data[\"beta_denominador\"])"
   ]
  },
  {
   "cell_type": "code",
   "execution_count": 228,
   "id": "functional-bracket",
   "metadata": {},
   "outputs": [],
   "source": [
    "alpha = y_mean - beta * x_mean"
   ]
  },
  {
   "cell_type": "code",
   "execution_count": 229,
   "id": "cloudy-sherman",
   "metadata": {},
   "outputs": [
    {
     "data": {
      "text/plain": [
       "(4.9990816769940425, 0.5414301884946398)"
      ]
     },
     "execution_count": 229,
     "metadata": {},
     "output_type": "execute_result"
    }
   ],
   "source": [
    "alpha, beta"
   ]
  },
  {
   "cell_type": "markdown",
   "id": "excited-removal",
   "metadata": {},
   "source": [
    "### El modelo lineal  obtenido por regresión es:\n",
    "* y = 9.928364957035443 + 2.5085646596267255 * x"
   ]
  },
  {
   "cell_type": "code",
   "execution_count": 230,
   "id": "valuable-breed",
   "metadata": {},
   "outputs": [],
   "source": [
    "data[\"y_model\"] = alpha + beta * data[\"x\"]"
   ]
  },
  {
   "cell_type": "code",
   "execution_count": 231,
   "id": "patient-accessory",
   "metadata": {},
   "outputs": [
    {
     "data": {
      "text/html": [
       "<div>\n",
       "<style scoped>\n",
       "    .dataframe tbody tr th:only-of-type {\n",
       "        vertical-align: middle;\n",
       "    }\n",
       "\n",
       "    .dataframe tbody tr th {\n",
       "        vertical-align: top;\n",
       "    }\n",
       "\n",
       "    .dataframe thead th {\n",
       "        text-align: right;\n",
       "    }\n",
       "</style>\n",
       "<table border=\"1\" class=\"dataframe\">\n",
       "  <thead>\n",
       "    <tr style=\"text-align: right;\">\n",
       "      <th></th>\n",
       "      <th>x</th>\n",
       "      <th>y_actual</th>\n",
       "      <th>y_prediccion</th>\n",
       "      <th>SSR</th>\n",
       "      <th>SSD</th>\n",
       "      <th>SST</th>\n",
       "      <th>beta_numerador</th>\n",
       "      <th>beta_denominador</th>\n",
       "      <th>y_model</th>\n",
       "    </tr>\n",
       "  </thead>\n",
       "  <tbody>\n",
       "    <tr>\n",
       "      <th>0</th>\n",
       "      <td>3.916124</td>\n",
       "      <td>6.931456</td>\n",
       "      <td>6.958062</td>\n",
       "      <td>1.094584</td>\n",
       "      <td>0.000708</td>\n",
       "      <td>1.039620</td>\n",
       "      <td>2.274052</td>\n",
       "      <td>4.974234</td>\n",
       "      <td>7.119390</td>\n",
       "    </tr>\n",
       "    <tr>\n",
       "      <th>1</th>\n",
       "      <td>2.207195</td>\n",
       "      <td>5.727979</td>\n",
       "      <td>6.103598</td>\n",
       "      <td>0.036772</td>\n",
       "      <td>0.141089</td>\n",
       "      <td>0.033804</td>\n",
       "      <td>-0.095859</td>\n",
       "      <td>0.271827</td>\n",
       "      <td>6.194124</td>\n",
       "    </tr>\n",
       "    <tr>\n",
       "      <th>2</th>\n",
       "      <td>-2.475065</td>\n",
       "      <td>5.138024</td>\n",
       "      <td>3.762468</td>\n",
       "      <td>4.619795</td>\n",
       "      <td>1.892157</td>\n",
       "      <td>0.598788</td>\n",
       "      <td>3.219754</td>\n",
       "      <td>17.313006</td>\n",
       "      <td>3.659007</td>\n",
       "    </tr>\n",
       "    <tr>\n",
       "      <th>3</th>\n",
       "      <td>3.784831</td>\n",
       "      <td>6.223033</td>\n",
       "      <td>6.892415</td>\n",
       "      <td>0.961532</td>\n",
       "      <td>0.448072</td>\n",
       "      <td>0.096842</td>\n",
       "      <td>0.653200</td>\n",
       "      <td>4.405825</td>\n",
       "      <td>7.048303</td>\n",
       "    </tr>\n",
       "    <tr>\n",
       "      <th>4</th>\n",
       "      <td>1.502409</td>\n",
       "      <td>5.075540</td>\n",
       "      <td>5.751204</td>\n",
       "      <td>0.025803</td>\n",
       "      <td>0.456522</td>\n",
       "      <td>0.699395</td>\n",
       "      <td>0.153391</td>\n",
       "      <td>0.033642</td>\n",
       "      <td>5.812531</td>\n",
       "    </tr>\n",
       "  </tbody>\n",
       "</table>\n",
       "</div>"
      ],
      "text/plain": [
       "          x  y_actual  y_prediccion       SSR       SSD       SST  \\\n",
       "0  3.916124  6.931456      6.958062  1.094584  0.000708  1.039620   \n",
       "1  2.207195  5.727979      6.103598  0.036772  0.141089  0.033804   \n",
       "2 -2.475065  5.138024      3.762468  4.619795  1.892157  0.598788   \n",
       "3  3.784831  6.223033      6.892415  0.961532  0.448072  0.096842   \n",
       "4  1.502409  5.075540      5.751204  0.025803  0.456522  0.699395   \n",
       "\n",
       "   beta_numerador  beta_denominador   y_model  \n",
       "0        2.274052          4.974234  7.119390  \n",
       "1       -0.095859          0.271827  6.194124  \n",
       "2        3.219754         17.313006  3.659007  \n",
       "3        0.653200          4.405825  7.048303  \n",
       "4        0.153391          0.033642  5.812531  "
      ]
     },
     "execution_count": 231,
     "metadata": {},
     "output_type": "execute_result"
    }
   ],
   "source": [
    "data.head()"
   ]
  },
  {
   "cell_type": "code",
   "execution_count": 232,
   "id": "associate-advancement",
   "metadata": {},
   "outputs": [],
   "source": [
    "SSR = sum((data[\"y_model\"] - y_mean)**2)\n",
    "SSD = sum((data[\"y_model\"] - data[\"y_actual\"])**2)\n",
    "SST = sum((data[\"y_actual\"] - np.mean(y_act))**2)"
   ]
  },
  {
   "cell_type": "code",
   "execution_count": 233,
   "id": "photographic-indianapolis",
   "metadata": {},
   "outputs": [
    {
     "data": {
      "text/plain": [
       "(194.5457008478007, 82.37403196776177, 276.9197328155623)"
      ]
     },
     "execution_count": 233,
     "metadata": {},
     "output_type": "execute_result"
    }
   ],
   "source": [
    "SSR, SSD, SST"
   ]
  },
  {
   "cell_type": "code",
   "execution_count": 234,
   "id": "medieval-private",
   "metadata": {},
   "outputs": [
    {
     "data": {
      "text/plain": [
       "0.7025346257190511"
      ]
     },
     "execution_count": 234,
     "metadata": {},
     "output_type": "execute_result"
    }
   ],
   "source": [
    "R2 = SSR / SST\n",
    "R2"
   ]
  },
  {
   "cell_type": "code",
   "execution_count": 235,
   "id": "israeli-senator",
   "metadata": {},
   "outputs": [
    {
     "data": {
      "text/plain": [
       "Text(0.5, 1.0, 'Valor Actual VS Predicción')"
      ]
     },
     "execution_count": 235,
     "metadata": {},
     "output_type": "execute_result"
    },
    {
     "data": {
      "image/png": "[encoded data removed]",
      "text/plain": [
       "<Figure size 432x288 with 1 Axes>"
      ]
     },
     "metadata": {
      "needs_background": "light"
     },
     "output_type": "display_data"
    }
   ],
   "source": [
    "y_mean = [np.mean(y_act) for i in range(1, len(x_list) + 1)]\n",
    "%matplotlib inline\n",
    "plt.plot(data[\"x\"], data[\"y_prediccion\"])\n",
    "plt.plot(data[\"x\"], data[\"y_actual\"], \"ro\")\n",
    "plt.plot(data[\"x\"], y_mean, \"g\")\n",
    "plt.plot(data[\"x\"], data[\"y_model\"] )\n",
    "plt.title(\"Valor Actual VS Predicción\")"
   ]
  },
  {
   "cell_type": "markdown",
   "id": "indoor-pantyhose",
   "metadata": {},
   "source": [
    "# Error estándar de los residuos (RSE)"
   ]
  },
  {
   "cell_type": "code",
   "execution_count": 236,
   "id": "informed-diameter",
   "metadata": {},
   "outputs": [
    {
     "data": {
      "text/plain": [
       "0.9168158738862531"
      ]
     },
     "execution_count": 236,
     "metadata": {},
     "output_type": "execute_result"
    }
   ],
   "source": [
    "RSE = np.sqrt(SSD/(len(data)-2))\n",
    "RSE"
   ]
  },
  {
   "cell_type": "code",
   "execution_count": 238,
   "id": "unique-mixture",
   "metadata": {},
   "outputs": [
    {
     "data": {
      "text/plain": [
       "5.911838296785424"
      ]
     },
     "execution_count": 238,
     "metadata": {},
     "output_type": "execute_result"
    }
   ],
   "source": [
    "np.mean(data[\"y_actual\"])"
   ]
  },
  {
   "cell_type": "code",
   "execution_count": 239,
   "id": "periodic-pipeline",
   "metadata": {},
   "outputs": [
    {
     "data": {
      "text/plain": [
       "0.15508135166429937"
      ]
     },
     "execution_count": 239,
     "metadata": {},
     "output_type": "execute_result"
    }
   ],
   "source": [
    "RSE / np.mean(data[\"y_actual\"])"
   ]
  },
  {
   "cell_type": "code",
   "execution_count": null,
   "id": "toxic-patch",
   "metadata": {},
   "outputs": [],
   "source": []
  }
 ],
 "metadata": {
  "kernelspec": {
   "display_name": "Python 3",
   "language": "python",
   "name": "python3"
  },
  "language_info": {
   "codemirror_mode": {
    "name": "ipython",
    "version": 3
   },
   "file_extension": ".py",
   "mimetype": "text/x-python",
   "name": "python",
   "nbconvert_exporter": "python",
   "pygments_lexer": "ipython3",
   "version": "3.7.10"
  }
 },
 "nbformat": 4,
 "nbformat_minor": 5
}
