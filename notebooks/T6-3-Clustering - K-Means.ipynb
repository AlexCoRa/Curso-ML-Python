{
 "cells": [
  {
   "cell_type": "markdown",
   "id": "assured-connection",
   "metadata": {},
   "source": [
    "# El método de k-means"
   ]
  },
  {
   "cell_type": "code",
   "execution_count": 1,
   "id": "sapphire-haiti",
   "metadata": {},
   "outputs": [],
   "source": [
    "import numpy as np"
   ]
  },
  {
   "cell_type": "code",
   "execution_count": 2,
   "id": "genuine-investigator",
   "metadata": {},
   "outputs": [
    {
     "data": {
      "text/plain": [
       "array([[0.22516078, 0.66480483, 0.49221683],\n",
       "       [0.91040259, 0.94510419, 0.56748544],\n",
       "       [0.15999013, 0.26712181, 0.82229747],\n",
       "       [0.26005132, 0.69532247, 0.69557649],\n",
       "       [0.42122834, 0.15609435, 0.00933888],\n",
       "       [0.40660126, 0.38420493, 0.07067044],\n",
       "       [0.57337914, 0.59743187, 0.71172781],\n",
       "       [0.32577196, 0.60062288, 0.97736884],\n",
       "       [0.1871061 , 0.73562278, 0.53923661],\n",
       "       [0.97830161, 0.77843636, 0.00167274],\n",
       "       [0.06706709, 0.42306204, 0.87880944],\n",
       "       [0.69425511, 0.62021979, 0.38137269],\n",
       "       [0.9582661 , 0.42671209, 0.16685148],\n",
       "       [0.4283708 , 0.89558229, 0.72689472],\n",
       "       [0.79271465, 0.28933807, 0.97260675],\n",
       "       [0.07142181, 0.58781216, 0.54035853],\n",
       "       [0.45859394, 0.94122558, 0.50811761],\n",
       "       [0.60558641, 0.38513419, 0.33632697],\n",
       "       [0.11093922, 0.76293694, 0.80281425],\n",
       "       [0.1212839 , 0.24363766, 0.60864749],\n",
       "       [0.87981075, 0.49606295, 0.3721274 ],\n",
       "       [0.29102388, 0.44548942, 0.61640555],\n",
       "       [0.49229495, 0.04705481, 0.93426616],\n",
       "       [0.78105237, 0.36489502, 0.72623033],\n",
       "       [0.75449295, 0.31747259, 0.84180044],\n",
       "       [0.28830405, 0.14363084, 0.74199806],\n",
       "       [0.15177073, 0.84645858, 0.86495704],\n",
       "       [0.08533795, 0.99338748, 0.05728132],\n",
       "       [0.27120068, 0.82268049, 0.8077451 ],\n",
       "       [0.67815626, 0.36415867, 0.42433598]])"
      ]
     },
     "execution_count": 2,
     "metadata": {},
     "output_type": "execute_result"
    }
   ],
   "source": [
    "data = np.random.random(90).reshape(30,3)\n",
    "data"
   ]
  },
  {
   "cell_type": "code",
   "execution_count": 3,
   "id": "baking-corpus",
   "metadata": {},
   "outputs": [
    {
     "data": {
      "text/plain": [
       "array([[0.79271465, 0.28933807, 0.97260675],\n",
       "       [0.27120068, 0.82268049, 0.8077451 ]])"
      ]
     },
     "execution_count": 3,
     "metadata": {},
     "output_type": "execute_result"
    }
   ],
   "source": [
    "c1 = np.random.choice(range(len(data)))\n",
    "c2 = np.random.choice(range(len(data)))\n",
    "clust_centers = np.vstack([data[c1], data[c2]])\n",
    "clust_centers"
   ]
  },
  {
   "cell_type": "code",
   "execution_count": 4,
   "id": "selective-italian",
   "metadata": {},
   "outputs": [],
   "source": [
    "from scipy.cluster.vq import vq"
   ]
  },
  {
   "cell_type": "code",
   "execution_count": 5,
   "id": "fitting-walnut",
   "metadata": {},
   "outputs": [
    {
     "data": {
      "text/plain": [
       "(array([1, 1, 1, 1, 0, 1, 1, 1, 1, 1, 1, 1, 0, 1, 0, 1, 1, 0, 1, 1, 0, 1,\n",
       "        0, 0, 0, 0, 1, 1, 1, 0], dtype=int32),\n",
       " array([0.35581243, 0.69375164, 0.56676716, 0.17007695, 1.04098077,\n",
       "        0.86825871, 0.38893198, 0.28471006, 0.29452971, 1.07317376,\n",
       "        0.4543298 , 0.63384448, 0.83397869, 0.19119075, 0.        ,\n",
       "        0.40813025, 0.37275435, 0.67010882, 0.17110623, 0.63040106,\n",
       "        0.64101197, 0.42341101, 0.38784427, 0.2579655 , 0.13915006,\n",
       "        0.57344661, 0.1345441 , 0.79175862, 0.        , 0.56508635]))"
      ]
     },
     "execution_count": 5,
     "metadata": {},
     "output_type": "execute_result"
    }
   ],
   "source": [
    "vq(data, clust_centers)"
   ]
  },
  {
   "cell_type": "code",
   "execution_count": 6,
   "id": "broad-miracle",
   "metadata": {},
   "outputs": [],
   "source": [
    "from scipy.cluster.vq import kmeans"
   ]
  },
  {
   "cell_type": "code",
   "execution_count": 7,
   "id": "fossil-timing",
   "metadata": {},
   "outputs": [
    {
     "data": {
      "text/plain": [
       "(array([[0.70903875, 0.44087999, 0.46548668],\n",
       "        [0.21896215, 0.62933739, 0.66754533]]),\n",
       " 0.352940003641972)"
      ]
     },
     "execution_count": 7,
     "metadata": {},
     "output_type": "execute_result"
    }
   ],
   "source": [
    "kmeans(data, clust_centers)"
   ]
  },
  {
   "cell_type": "code",
   "execution_count": 8,
   "id": "hazardous-means",
   "metadata": {},
   "outputs": [
    {
     "data": {
      "text/plain": [
       "(array([[0.21896215, 0.62933739, 0.66754533],\n",
       "        [0.70903875, 0.44087999, 0.46548668]]),\n",
       " 0.352940003641972)"
      ]
     },
     "execution_count": 8,
     "metadata": {},
     "output_type": "execute_result"
    }
   ],
   "source": [
    "kmeans(data, 2)"
   ]
  },
  {
   "cell_type": "code",
   "execution_count": null,
   "id": "heated-dublin",
   "metadata": {},
   "outputs": [],
   "source": []
  }
 ],
 "metadata": {
  "kernelspec": {
   "display_name": "Python 3",
   "language": "python",
   "name": "python3"
  },
  "language_info": {
   "codemirror_mode": {
    "name": "ipython",
    "version": 3
   },
   "file_extension": ".py",
   "mimetype": "text/x-python",
   "name": "python",
   "nbconvert_exporter": "python",
   "pygments_lexer": "ipython3",
   "version": "3.7.10"
  }
 },
 "nbformat": 4,
 "nbformat_minor": 5
}
